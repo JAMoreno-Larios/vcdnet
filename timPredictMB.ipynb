{
 "cells": [
  {
   "cell_type": "markdown",
   "metadata": {},
   "source": [
    "# Demo: Apply trained VCD-Net model  \n",
    "This notebook demonstrates applying a VCD-Net  model for a light field reconstruction.\n"
   ]
  },
  {
   "cell_type": "markdown",
   "metadata": {},
   "source": [
    "## Examine the parameters\n",
    "We define all parameters in a [configuration script config.py](./config.py). Make the edit according to specific application and dataset before running this notebook.  \n",
    "\n",
    "Typical parameters include:\n",
    "- **PSF.n_slices** : number of z slices of targeted 3-D reconstruction\n",
    "- **PSF.Nnum**     : number of pixels behind each lenslet\n",
    "- **label**        : label of the pretrained model to be used for inference\n",
    "- **VALID.lf2d_path**     : folder where the 2D light field images to be reconstructed are stored\n",
    "- **VALID.saving_path**   : folder where the reconstruced results will be stored"
   ]
  },
  {
   "cell_type": "code",
   "execution_count": 1,
   "metadata": {},
   "outputs": [
    {
     "name": "stdout",
     "output_type": "stream",
     "text": [
      "WARNING:tensorflow:From /Users/timothyspellman/Dropbox/Python/VCD-Net/vcdnet/tensorlayer/layers/core.py:43: The name tf.GraphKeys is deprecated. Please use tf.compat.v1.GraphKeys instead.\n",
      "\n",
      "WARNING:tensorflow:From /Users/timothyspellman/Dropbox/Python/VCD-Net/vcdnet/tensorlayer/layers/normalization.py:243: The name tf.AUTO_REUSE is deprecated. Please use tf.compat.v1.AUTO_REUSE instead.\n",
      "\n",
      "WARNING:tensorflow:From /Users/timothyspellman/Dropbox/Python/VCD-Net/vcdnet/tensorlayer/layers/pooling.py:59: The name tf.nn.max_pool is deprecated. Please use tf.nn.max_pool2d instead.\n",
      "\n",
      "Parameters defined in config.py:\n",
      "PSF related: \n",
      "    n_slices                         61                            \n",
      "    Nnum                             13                            \n",
      "Prediction related: \n",
      "    ckpt_dir                         /Users/timothyspellman/Dropbox/Python/VCD-Net/vcd-example-data/checkpoint/tubulin_10x06_N13_OSR3/\n",
      "    lf2d_path                        /Users/timothyspellman/Dropbox/Python/VCD-Net/vcd-example-data/data/tubesMacbook_Nnum13OSR3_LF/\n",
      "    saving_path                      /Users/timothyspellman/Dropbox/Python/VCD-Net/vcd-example-data/data/tubesMacbook_Nnum13OSR3_Results/\n"
     ]
    }
   ],
   "source": [
    "from evalMB import *\n",
    "import warnings\n",
    "warnings.filterwarnings('ignore')\n",
    "import glob\n",
    "\n",
    "\n",
    "print(\"Parameters defined in config.py:\")\n",
    "print(\"PSF related: \")\n",
    "for par, val in config.PSF.items():\n",
    "    print('    {:<30}   {:<30}'.format(par,val))\n",
    "        \n",
    "print(\"Prediction related: \")\n",
    "for par, val in config.VALID.items():\n",
    "    print('    {:<30}   {:<30}'.format(par,val))"
   ]
  },
  {
   "cell_type": "code",
   "execution_count": 2,
   "metadata": {
    "scrolled": true
   },
   "outputs": [
    {
     "name": "stderr",
     "output_type": "stream",
     "text": [
      "[TL] [*] creates /Users/timothyspellman/Dropbox/Python/VCD-Net/vcd-example-data/data/tubesMacbook_Nnum13OSR3_Results/ ...\n"
     ]
    },
    {
     "ename": "FileNotFoundError",
     "evalue": "[Errno 2] No such file or directory: '/Users/timothyspellman/Dropbox/Python/VCD-Net/vcd-example-data/data/tubesMacbook_Nnum13OSR3_LF/'",
     "output_type": "error",
     "traceback": [
      "\u001b[0;31m---------------------------------------------------------------------------\u001b[0m",
      "\u001b[0;31mFileNotFoundError\u001b[0m                         Traceback (most recent call last)",
      "\u001b[0;32m<ipython-input-2-8390374e2938>\u001b[0m in \u001b[0;36m<module>\u001b[0;34m\u001b[0m\n\u001b[1;32m      2\u001b[0m \u001b[0mbatch_size\u001b[0m \u001b[0;34m=\u001b[0m \u001b[0;36m1\u001b[0m\u001b[0;34m\u001b[0m\u001b[0;34m\u001b[0m\u001b[0m\n\u001b[1;32m      3\u001b[0m \u001b[0muse_cpu\u001b[0m \u001b[0;34m=\u001b[0m \u001b[0;36m1\u001b[0m\u001b[0;34m\u001b[0m\u001b[0;34m\u001b[0m\u001b[0m\n\u001b[0;32m----> 4\u001b[0;31m \u001b[0minfer\u001b[0m\u001b[0;34m(\u001b[0m\u001b[0mckpt\u001b[0m\u001b[0;34m,\u001b[0m \u001b[0mbatch_size\u001b[0m\u001b[0;34m=\u001b[0m\u001b[0mbatch_size\u001b[0m\u001b[0;34m,\u001b[0m \u001b[0muse_cpu\u001b[0m\u001b[0;34m=\u001b[0m\u001b[0muse_cpu\u001b[0m\u001b[0;34m)\u001b[0m\u001b[0;34m\u001b[0m\u001b[0;34m\u001b[0m\u001b[0m\n\u001b[0m",
      "\u001b[0;32m~/Dropbox/Python/VCD-Net/vcdnet/evalMB.py\u001b[0m in \u001b[0;36minfer\u001b[0;34m(epoch, batch_size, use_cpu)\u001b[0m\n\u001b[1;32m     59\u001b[0m     \u001b[0mtl\u001b[0m\u001b[0;34m.\u001b[0m\u001b[0mfiles\u001b[0m\u001b[0;34m.\u001b[0m\u001b[0mexists_or_mkdir\u001b[0m\u001b[0;34m(\u001b[0m\u001b[0msave_dir\u001b[0m\u001b[0;34m)\u001b[0m\u001b[0;34m\u001b[0m\u001b[0;34m\u001b[0m\u001b[0m\n\u001b[1;32m     60\u001b[0m \u001b[0;34m\u001b[0m\u001b[0m\n\u001b[0;32m---> 61\u001b[0;31m     \u001b[0mvalid_lf_extras\u001b[0m\u001b[0;34m,\u001b[0m \u001b[0mnames\u001b[0m\u001b[0;34m,\u001b[0m \u001b[0mheight\u001b[0m\u001b[0;34m,\u001b[0m \u001b[0mwidth\u001b[0m \u001b[0;34m=\u001b[0m \u001b[0mread_valid_images\u001b[0m\u001b[0;34m(\u001b[0m\u001b[0mvalid_lr_img_path\u001b[0m\u001b[0;34m)\u001b[0m\u001b[0;34m\u001b[0m\u001b[0;34m\u001b[0m\u001b[0m\n\u001b[0m\u001b[1;32m     62\u001b[0m     \u001b[0mt_image\u001b[0m \u001b[0;34m=\u001b[0m \u001b[0mtf\u001b[0m\u001b[0;34m.\u001b[0m\u001b[0mplaceholder\u001b[0m\u001b[0;34m(\u001b[0m\u001b[0;34m'float32'\u001b[0m\u001b[0;34m,\u001b[0m \u001b[0;34m[\u001b[0m\u001b[0mbatch_size\u001b[0m\u001b[0;34m,\u001b[0m \u001b[0mheight\u001b[0m \u001b[0;34m,\u001b[0m \u001b[0mwidth\u001b[0m\u001b[0;34m,\u001b[0m \u001b[0mn_num\u001b[0m \u001b[0;34m**\u001b[0m \u001b[0;36m2\u001b[0m\u001b[0;34m]\u001b[0m\u001b[0;34m)\u001b[0m\u001b[0;34m\u001b[0m\u001b[0;34m\u001b[0m\u001b[0m\n\u001b[1;32m     63\u001b[0m \u001b[0;34m\u001b[0m\u001b[0m\n",
      "\u001b[0;32m~/Dropbox/Python/VCD-Net/vcdnet/evalMB.py\u001b[0m in \u001b[0;36mread_valid_images\u001b[0;34m(path)\u001b[0m\n\u001b[1;32m     29\u001b[0m         \u001b[0;32mreturn\u001b[0m \u001b[0mim\u001b[0m \u001b[0;32mif\u001b[0m \u001b[0mim\u001b[0m\u001b[0;34m.\u001b[0m\u001b[0mdtype\u001b[0m \u001b[0;32mis\u001b[0m \u001b[0mnp\u001b[0m\u001b[0;34m.\u001b[0m\u001b[0mfloat32\u001b[0m \u001b[0;32melse\u001b[0m \u001b[0mim\u001b[0m\u001b[0;34m.\u001b[0m\u001b[0mastype\u001b[0m\u001b[0;34m(\u001b[0m\u001b[0mnp\u001b[0m\u001b[0;34m.\u001b[0m\u001b[0mfloat32\u001b[0m\u001b[0;34m,\u001b[0m \u001b[0mcasting\u001b[0m\u001b[0;34m=\u001b[0m\u001b[0;34m'unsafe'\u001b[0m\u001b[0;34m)\u001b[0m\u001b[0;34m\u001b[0m\u001b[0;34m\u001b[0m\u001b[0m\n\u001b[1;32m     30\u001b[0m \u001b[0;34m\u001b[0m\u001b[0m\n\u001b[0;32m---> 31\u001b[0;31m     \u001b[0mimg_list\u001b[0m \u001b[0;34m=\u001b[0m \u001b[0msorted\u001b[0m\u001b[0;34m(\u001b[0m\u001b[0mtl\u001b[0m\u001b[0;34m.\u001b[0m\u001b[0mfiles\u001b[0m\u001b[0;34m.\u001b[0m\u001b[0mload_file_list\u001b[0m\u001b[0;34m(\u001b[0m\u001b[0mpath\u001b[0m\u001b[0;34m=\u001b[0m\u001b[0mpath\u001b[0m\u001b[0;34m,\u001b[0m \u001b[0mregx\u001b[0m\u001b[0;34m=\u001b[0m\u001b[0;34m'.*.tif'\u001b[0m\u001b[0;34m,\u001b[0m \u001b[0mprintable\u001b[0m\u001b[0;34m=\u001b[0m\u001b[0;32mFalse\u001b[0m\u001b[0;34m)\u001b[0m\u001b[0;34m)\u001b[0m\u001b[0;34m\u001b[0m\u001b[0;34m\u001b[0m\u001b[0m\n\u001b[0m\u001b[1;32m     32\u001b[0m \u001b[0;34m\u001b[0m\u001b[0m\n\u001b[1;32m     33\u001b[0m     \u001b[0mimg_set\u001b[0m  \u001b[0;34m=\u001b[0m \u001b[0;34m[\u001b[0m\u001b[0m__cast\u001b[0m\u001b[0;34m(\u001b[0m\u001b[0mget_lf_extra\u001b[0m\u001b[0;34m(\u001b[0m\u001b[0mimg_file\u001b[0m\u001b[0;34m,\u001b[0m \u001b[0mpath\u001b[0m\u001b[0;34m,\u001b[0m \u001b[0mn_num\u001b[0m\u001b[0;34m=\u001b[0m\u001b[0mn_num\u001b[0m\u001b[0;34m,\u001b[0m \u001b[0mnormalize_fn\u001b[0m\u001b[0;34m=\u001b[0m\u001b[0mnormalize_fn\u001b[0m\u001b[0;34m)\u001b[0m\u001b[0;34m)\u001b[0m \u001b[0;32mfor\u001b[0m \u001b[0mimg_file\u001b[0m \u001b[0;32min\u001b[0m \u001b[0mimg_list\u001b[0m\u001b[0;34m]\u001b[0m\u001b[0;34m\u001b[0m\u001b[0;34m\u001b[0m\u001b[0m\n",
      "\u001b[0;32m~/Dropbox/Python/VCD-Net/vcdnet/tensorlayer/files.py\u001b[0m in \u001b[0;36mload_file_list\u001b[0;34m(path, regx, printable)\u001b[0m\n\u001b[1;32m   1637\u001b[0m     \u001b[0;32mif\u001b[0m \u001b[0mpath\u001b[0m \u001b[0;32mis\u001b[0m \u001b[0;32mNone\u001b[0m\u001b[0;34m:\u001b[0m\u001b[0;34m\u001b[0m\u001b[0;34m\u001b[0m\u001b[0m\n\u001b[1;32m   1638\u001b[0m         \u001b[0mpath\u001b[0m \u001b[0;34m=\u001b[0m \u001b[0mos\u001b[0m\u001b[0;34m.\u001b[0m\u001b[0mgetcwd\u001b[0m\u001b[0;34m(\u001b[0m\u001b[0;34m)\u001b[0m\u001b[0;34m\u001b[0m\u001b[0;34m\u001b[0m\u001b[0m\n\u001b[0;32m-> 1639\u001b[0;31m     \u001b[0mfile_list\u001b[0m \u001b[0;34m=\u001b[0m \u001b[0mos\u001b[0m\u001b[0;34m.\u001b[0m\u001b[0mlistdir\u001b[0m\u001b[0;34m(\u001b[0m\u001b[0mpath\u001b[0m\u001b[0;34m)\u001b[0m\u001b[0;34m\u001b[0m\u001b[0;34m\u001b[0m\u001b[0m\n\u001b[0m\u001b[1;32m   1640\u001b[0m     \u001b[0mreturn_list\u001b[0m \u001b[0;34m=\u001b[0m \u001b[0;34m[\u001b[0m\u001b[0;34m]\u001b[0m\u001b[0;34m\u001b[0m\u001b[0;34m\u001b[0m\u001b[0m\n\u001b[1;32m   1641\u001b[0m     \u001b[0;32mfor\u001b[0m \u001b[0m_\u001b[0m\u001b[0;34m,\u001b[0m \u001b[0mf\u001b[0m \u001b[0;32min\u001b[0m \u001b[0menumerate\u001b[0m\u001b[0;34m(\u001b[0m\u001b[0mfile_list\u001b[0m\u001b[0;34m)\u001b[0m\u001b[0;34m:\u001b[0m\u001b[0;34m\u001b[0m\u001b[0;34m\u001b[0m\u001b[0m\n",
      "\u001b[0;31mFileNotFoundError\u001b[0m: [Errno 2] No such file or directory: '/Users/timothyspellman/Dropbox/Python/VCD-Net/vcd-example-data/data/tubesMacbook_Nnum13OSR3_LF/'"
     ]
    }
   ],
   "source": [
    "ckpt = 0 #0 means latest\n",
    "batch_size = 1\n",
    "use_cpu = 1                                             \n",
    "infer(ckpt, batch_size=batch_size, use_cpu=use_cpu)"
   ]
  },
  {
   "cell_type": "markdown",
   "metadata": {},
   "source": [
    "## Plot the results"
   ]
  },
  {
   "cell_type": "code",
   "execution_count": null,
   "metadata": {},
   "outputs": [],
   "source": [
    "import ipyvolume as ipv\n",
    "\n",
    "test_file = 'vcd-001-000009.tif'\n",
    "recon = get_and_rearrange3d(test_file, config.VALID.saving_path, normalize)\n",
    "# recons=np.ndarray([recon.shape[0],recon.shape[1],recon.shape[2],3])\n",
    "\n",
    "f=ipv.quickvolshow(recon)\n",
    "ipv.show()\n",
    "\n",
    "# ##threshold\n",
    "# a,b,c=np.where(recon>=0.1)\n",
    "# a=np.asarray(a,dtype='float64')\n",
    "# b=np.asarray(b,dtype='float64')\n",
    "# c=np.asarray(c,dtype='float64')\n",
    "\n",
    "# ##scatter\n",
    "# # f=ipv.quickscatter(a,b,c)\n",
    "# ipv.show()\n",
    "\n",
    "# ##surface\n",
    "# from scipy.spatial import ConvexHull, convex_hull_plot_2d\n",
    "# points=np.concatenate((np.expand_dims(a,axis=1),np.expand_dims(b,axis=1),np.expand_dims(c,axis=1)),axis=1)\n",
    "# hull = ConvexHull(points)\n",
    "# f=ipv.plot_trisurf(a,b,c, triangles=hull.simplices, color='red') ##surface\n",
    "# ipv.show()"
   ]
  },
  {
   "cell_type": "code",
   "execution_count": null,
   "metadata": {},
   "outputs": [],
   "source": []
  },
  {
   "cell_type": "code",
   "execution_count": null,
   "metadata": {},
   "outputs": [],
   "source": []
  },
  {
   "cell_type": "code",
   "execution_count": null,
   "metadata": {},
   "outputs": [],
   "source": []
  },
  {
   "cell_type": "code",
   "execution_count": null,
   "metadata": {},
   "outputs": [],
   "source": [
    "##bokeh embeds ipv figures as html exceeds the char limit for squarespace \n",
    "import ipyvolume\n",
    "import ipyvolume as ipv\n",
    "import vaex\n",
    "from bokeh.io import output_notebook, show\n",
    "from bokeh.plotting import figure\n",
    "from bokeh.models import CustomJS, ColumnDataSource\n",
    "import ipyvolume.bokeh\n",
    "from bokeh.resources import CDN\n",
    "from bokeh.embed import components\n",
    "import ipywidgets\n",
    "\n",
    "ds = vaex.example()\n",
    "N = 5\n",
    "\n",
    "ipv.figure()\n",
    "quiver = ipv.quiver(ds.data.x[:N],  ds.data.y[:N],  ds.data.z[:N],\n",
    "                    ds.data.vx[:N], ds.data.vy[:N], ds.data.vz[:N],\n",
    "                    size=1, size_selected=5, color_selected=\"grey\")\n",
    "ipv.xyzlim(-30, 30)\n",
    "ipv.show()\n",
    "\n",
    "output_notebook()\n",
    "\n",
    "xin=ds.data.Lz[:N]\n",
    "yin=ds.data.E[:N]\n",
    "data_source = ColumnDataSource(data=dict(x=xin.astype('uint8'), y=yin.astype('uint8')))\n",
    "p = figure(title=\"E Lz space\", tools='lasso_select', width=500, height=500)\n",
    "r = p.circle('x', 'y', source=data_source, color=\"navy\", alpha=0.2)\n",
    "ipyvolume.bokeh.link_data_source_selection_to_widget(data_source, quiver, 'selected')\n",
    "show(p)\n",
    "\n",
    "out = ipywidgets.Output()\n",
    "with out:\n",
    "    show(p)\n",
    "ipywidgets.HBox([out, ipv.gcc()])\n",
    "\n",
    "script, div = components((p))\n",
    "template_options = dict(extra_script_head=script + CDN.render_js() + CDN.render_css(),\n",
    "                        body_pre=\"<h2>Do selections in 2d (bokeh)<h2>\" + div + \"<h2>And see the selection in ipyvolume<h2>\")\n",
    "figCode=ipyvolume.embed.embed_html(\"tmp/bokeh.html\",\n",
    "                           [ipv.gcc(), ipyvolume.bokeh.wmh], all_states=True,\n",
    "                           template_options=template_options)\n",
    "\n",
    "!open tmp/bokeh.html"
   ]
  },
  {
   "cell_type": "code",
   "execution_count": null,
   "metadata": {},
   "outputs": [],
   "source": []
  },
  {
   "cell_type": "code",
   "execution_count": null,
   "metadata": {},
   "outputs": [],
   "source": []
  },
  {
   "cell_type": "code",
   "execution_count": null,
   "metadata": {},
   "outputs": [],
   "source": []
  },
  {
   "cell_type": "code",
   "execution_count": null,
   "metadata": {},
   "outputs": [],
   "source": [
    "imageio.volread"
   ]
  },
  {
   "cell_type": "code",
   "execution_count": null,
   "metadata": {},
   "outputs": [],
   "source": [
    "%matplotlib inline\n",
    "import matplotlib.pyplot as plt\n",
    "from matplotlib import gridspec\n",
    "from configMB import config\n",
    "import imageio\n",
    "import numpy as np\n",
    "import mpld3\n",
    "\n",
    "\n",
    "test_file = 'vcd-001-000000.tif'\n",
    "# recon = get_and_rearrange3d(test_file, config.VALID.saving_path, normalize)\n",
    "recon = imageio.volread(config.VALID.saving_path+test_file)\n",
    "print(recon.shape)\n",
    "fig=plt.figure(figsize=(8,8))\n",
    "gs = gridspec.GridSpec(2, 1, height_ratios=[recon.shape[0],recon.shape[2]*1/0.34]) \n",
    "xy_view = plt.subplot(gs[0])\n",
    "xy_view.imshow(np.sum(recon, axis=-1, keepdims=False),cmap='hot')\n",
    "xy_view.set_title('VCD-XY')\n",
    "plt.axis('off')\n",
    "xz_view = plt.subplot(gs[1])\n",
    "xz_view.imshow(np.transpose(np.sum(recon, axis=0, keepdims=False)),cmap='hot',aspect=1/0.34)\n",
    "xz_view.set_title('VCD-XZ')\n",
    "plt.axis('off')\n",
    "plt.show()\n",
    "\n",
    "##create html file\n",
    "html_str = mpld3.fig_to_html(fig)\n",
    "Html_file= open(\"index.html\",\"w\")\n",
    "Html_file.write(html_str)\n",
    "Html_file.close()"
   ]
  },
  {
   "cell_type": "code",
   "execution_count": null,
   "metadata": {},
   "outputs": [],
   "source": []
  }
 ],
 "metadata": {
  "kernelspec": {
   "display_name": "vcdnet",
   "language": "python",
   "name": "vcdnet"
  },
  "language_info": {
   "codemirror_mode": {
    "name": "ipython",
    "version": 3
   },
   "file_extension": ".py",
   "mimetype": "text/x-python",
   "name": "python",
   "nbconvert_exporter": "python",
   "pygments_lexer": "ipython3",
   "version": "3.6.9"
  }
 },
 "nbformat": 4,
 "nbformat_minor": 2
}
